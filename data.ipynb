{
 "cells": [
  {
   "cell_type": "markdown",
   "metadata": {},
   "source": [
    "Python script to generate a dataset about the spread of misinformation on social media."
   ]
  },
  {
   "cell_type": "code",
   "execution_count": 3,
   "metadata": {},
   "outputs": [
    {
     "name": "stdout",
     "output_type": "stream",
     "text": [
      "Dataset saved as 'data.csv'\n",
      "  User_ID  Platform Country  Age  Gender Post_Type  Engagements  \\\n",
      "0  User_1  Facebook   China   56  Female     Video          116   \n",
      "1  User_2  Facebook   China   38    Male     Video          224   \n",
      "2  User_3  Facebook   China   41    Male     Mixed          161   \n",
      "3  User_4  Facebook   China   19  Female     Image          303   \n",
      "4  User_5  Facebook   China   38  Female     Image           31   \n",
      "\n",
      "   Misinformation_Spread  \n",
      "0                      1  \n",
      "1                      0  \n",
      "2                      1  \n",
      "3                      0  \n",
      "4                      0  \n"
     ]
    }
   ],
   "source": [
    "import pandas as pd\n",
    "import numpy as np\n",
    "\n",
    "# Function to generate dataset\n",
    "def generate_misinformation_dataset(platforms, countries, age_range, gender_distribution, sample_size_per_country_platform):\n",
    "    np.random.seed(42)  # For reproducibility\n",
    "    data = []\n",
    "\n",
    "    for platform in platforms:\n",
    "        for country in countries:\n",
    "            for _ in range(sample_size_per_country_platform):\n",
    "                data.append({\n",
    "                    \"User_ID\": f\"User_{len(data) + 1}\",\n",
    "                    \"Platform\": platform,\n",
    "                    \"Country\": country,\n",
    "                    \"Age\": np.random.randint(age_range[0], age_range[1] + 1),\n",
    "                    \"Gender\": np.random.choice(gender_distribution, p=[0.5, 0.4, 0.1]),\n",
    "                    \"Post_Type\": np.random.choice([\"Text\", \"Image\", \"Video\", \"Mixed\"]),\n",
    "                    \"Engagements\": np.random.randint(10, 500),\n",
    "                    \"Misinformation_Spread\": np.random.choice(\n",
    "                        [0, 1], # 0 = No, 1 = Yes\n",
    "                        p=[0.5, 0.5]\n",
    "                    )\n",
    "                })\n",
    "\n",
    "    # Create DataFrame\n",
    "    df = pd.DataFrame(data)\n",
    "    return df\n",
    "\n",
    "# User inputs\n",
    "platforms = input(\"Enter social platforms (comma-separated, e.g., Facebook, Twitter): \").split(\",\")\n",
    "countries = input(\"Enter countries (comma-separated, e.g., USA, UK, Canada): \").split(\",\")\n",
    "age_range = list(map(int, input(\"Enter age range (e.g., 18 65): \").split()))\n",
    "gender_distribution = [\"Male\", \"Female\", \"Other\"]\n",
    "sample_size_per_country_platform = int(input(\"Enter sample size per country-platform pair: \"))\n",
    "\n",
    "# Generate dataset\n",
    "dataset = generate_misinformation_dataset(platforms, countries, age_range, gender_distribution, sample_size_per_country_platform)\n",
    "\n",
    "# Save to CSV\n",
    "dataset.to_csv(\"data.csv\", index=False)\n",
    "print(\"Dataset saved as 'data.csv'\")\n",
    "print(dataset.head())\n"
   ]
  }
 ],
 "metadata": {
  "kernelspec": {
   "display_name": "Python 3",
   "language": "python",
   "name": "python3"
  },
  "language_info": {
   "codemirror_mode": {
    "name": "ipython",
    "version": 3
   },
   "file_extension": ".py",
   "mimetype": "text/x-python",
   "name": "python",
   "nbconvert_exporter": "python",
   "pygments_lexer": "ipython3",
   "version": "3.11.5"
  }
 },
 "nbformat": 4,
 "nbformat_minor": 2
}
